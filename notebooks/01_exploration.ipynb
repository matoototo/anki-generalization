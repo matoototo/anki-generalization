{
  "cells": [
    {
      "cell_type": "code",
      "execution_count": null,
      "metadata": {},
      "outputs": [],
      "source": [
        "import sys\n",
        "from pathlib import Path\n",
        "nb_dir = Path.cwd()\n",
        "candidates = [nb_dir, nb_dir.parent, nb_dir.parent.parent]\n",
        "for cand in candidates:\n",
        "    if (cand / 'srs_utils.py').exists():\n",
        "        sys.path.insert(0, str(cand))\n",
        "        break\n"
      ]
    },
    {
      "cell_type": "code",
      "execution_count": null,
      "metadata": {},
      "outputs": [],
      "source": [
        "from pathlib import Path\n",
        "import numpy as np\n",
        "import matplotlib.pyplot as plt\n",
        "from srs_utils import (\n",
        "    open_collection,\n",
        "    build_deck_and_model_maps,\n",
        "    load_reviews,\n",
        "    available_decks,\n",
        "    filter_by_decks,\n",
        "    plot_population_distributions,\n",
        ")\n"
      ]
    },
    {
      "cell_type": "code",
      "execution_count": null,
      "id": "a1874f95",
      "metadata": {},
      "outputs": [],
      "source": [
        "# Copy your collection to the tmp path here. Usually you can find it at:\n",
        "# - macOS: ~/Library/Application Support/Anki2/User 1/collection.anki2\n",
        "db_path = Path(\"../tmp/collection.anki2\")\n",
        "\n",
        "db_path = db_path.expanduser().resolve()\n",
        "print(f'User provided: {db_path}')\n",
        "\n",
        "# Resolve directory → collection file if needed\n",
        "candidates = ('collection.anki21', 'collection.anki2', 'collection.sqlite')\n",
        "src_path = db_path\n",
        "if src_path.is_dir():\n",
        "    for cand in candidates:\n",
        "        p = src_path / cand\n",
        "        if p.exists():\n",
        "            src_path = p\n",
        "            print(f'Resolved directory to: {src_path}')\n",
        "            break\n",
        "\n",
        "to_open = src_path\n",
        "\n",
        "print(f'Opening: {to_open}')\n"
      ]
    },
    {
      "cell_type": "code",
      "execution_count": null,
      "id": "5f2c40ea",
      "metadata": {},
      "outputs": [],
      "source": [
        "# Open, load, and enrich reviews\n",
        "con = open_collection(to_open)\n",
        "deck_map, model_map = build_deck_and_model_maps(con)\n",
        "df_all, df_valid = load_reviews(con, deck_map, model_map)\n",
        "print(f'Rows: all={len(df_all)}, valid={len(df_valid)}')\n",
        "print('Decks:', len(available_decks(df_valid)))\n"
      ]
    },
    {
      "cell_type": "code",
      "execution_count": null,
      "id": "7696bd60",
      "metadata": {},
      "outputs": [],
      "source": [
        "decks_sorted = available_decks(df_valid)\n",
        "print(f'Available decks ({len(decks_sorted)}):')\n",
        "for d in decks_sorted:\n",
        "    print(' -', d)\n",
        "\n",
        "df_sel = df_valid.copy()\n",
        "import ipywidgets as widgets\n",
        "from IPython.display import display\n",
        "deck_selector = widgets.SelectMultiple(options=decks_sorted, description='Decks', rows=min(12, len(decks_sorted)))\n",
        "apply_btn = widgets.Button(description='Apply selection', button_style='primary')\n",
        "out = widgets.Output()\n",
        "def _apply(_):\n",
        "    sel = list(deck_selector.value) or decks_sorted\n",
        "    global df_sel\n",
        "    df_sel = filter_by_decks(df_valid, sel)\n",
        "    with out:\n",
        "        out.clear_output()\n",
        "        print('Selected rows:', len(df_sel))\n",
        "apply_btn.on_click(_apply)\n",
        "display(deck_selector, apply_btn, out)\n"
      ]
    },
    {
      "cell_type": "code",
      "execution_count": null,
      "id": "1211ec47",
      "metadata": {},
      "outputs": [],
      "source": [
        "# Population-level distributions (review time, cue length, and time by correctness)\n",
        "plot_population_distributions(df_sel)"
      ]
    },
    {
      "cell_type": "code",
      "execution_count": null,
      "id": "f0e66707",
      "metadata": {},
      "outputs": [],
      "source": [
        "# Per-card summary: median time, variability, and counts\n",
        "by_card = (\n",
        "    df_sel.groupby('cid')\n",
        "    .agg(n_reviews=('cid', 'size'),\n",
        "         med_time_s=('review_s', 'median'),\n",
        "         mean_time_s=('review_s', 'mean'),\n",
        "         std_time_s=('review_s', 'std'),\n",
        "         cue_len=('cue_length', 'median'),\n",
        "         deck=('deck_name', lambda s: s.mode().iloc[0] if len(s) else None))\n",
        ")\n",
        "by_card['cv_time'] = by_card['std_time_s'] / by_card['mean_time_s']\n",
        "by_card = by_card.sort_values(['n_reviews', 'med_time_s'], ascending=[False, True])\n",
        "by_card.head(5)\n"
      ]
    },
    {
      "cell_type": "code",
      "execution_count": null,
      "id": "ed25870d",
      "metadata": {},
      "outputs": [],
      "source": [
        "# Distributions over cards\n",
        "fig, axes = plt.subplots(1, 3, figsize=(18,5))\n",
        "axes[0].hist(by_card['n_reviews'], bins=50, color='#72b7b2')\n",
        "axes[0].set_title('Per-card review counts')\n",
        "axes[0].set_xlabel('n reviews')\n",
        "axes[1].hist(by_card['med_time_s'].dropna(), bins=60, color='#e45756')\n",
        "axes[1].set_title('Per-card median time (s)')\n",
        "axes[1].set_xlabel('seconds')\n",
        "axes[2].hist(by_card['cv_time'].replace([np.inf, -np.inf], np.nan).dropna(), bins=60, color='#54a24b')\n",
        "axes[2].set_title('Per-card coefficient of variation')\n",
        "axes[2].set_xlabel('std / mean')\n",
        "plt.tight_layout()\n",
        "plt.show()\n"
      ]
    },
    {
      "cell_type": "code",
      "execution_count": null,
      "id": "5256d0f7",
      "metadata": {},
      "outputs": [],
      "source": [
        "AGG = 'mean'\n",
        "assert AGG in ('median','mean')\n",
        "\n",
        "def aggregate_by_card_correctness(df, agg: str = 'median'):\n",
        "    # Per-card cue length: use median (stable) across reviews\n",
        "    agg_cue = 'median'\n",
        "    # Correct subset\n",
        "    gb_c = df[df['is_correct']].groupby('cid')\n",
        "    by_c = gb_c.agg(cue_len=(\"cue_length\", agg_cue), time_s=(\"review_s\", agg))\n",
        "    # Incorrect subset\n",
        "    gb_i = df[~df['is_correct']].groupby('cid')\n",
        "    by_i = gb_i.agg(cue_len=(\"cue_length\", agg_cue), time_s=(\"review_s\", agg))\n",
        "    return by_c.dropna(), by_i.dropna()\n",
        "\n",
        "by_card_correct, by_card_incorrect = aggregate_by_card_correctness(df_sel, AGG)\n",
        "print(f'Cards with correct reviews: {len(by_card_correct)}; with incorrect reviews: {len(by_card_incorrect)}')\n"
      ]
    },
    {
      "cell_type": "code",
      "execution_count": null,
      "id": "eb5dc09a",
      "metadata": {},
      "outputs": [],
      "source": [
        "# Plot aggregated: time vs cue length, segmented by correctness (card-level)\n",
        "def _scatter_with_fit(x, y, label, color):\n",
        "    x = np.asarray(x); y = np.asarray(y)\n",
        "    plt.scatter(x, y, s=10, alpha=0.25, label=label, color=color, edgecolors='none')\n",
        "    if len(x) >= 2:\n",
        "        b, a = np.polyfit(x, y, 1)\n",
        "        xx = np.linspace(float(x.min()), float(x.max()), 100)\n",
        "        yy = a + b * xx\n",
        "        plt.plot(xx, yy, color=color, linewidth=2)\n",
        "        return a, b\n",
        "    return 0.0, 0.0\n",
        "\n",
        "plt.figure(figsize=(8,6))\n",
        "a1,b1 = _scatter_with_fit(by_card_correct['cue_len'], by_card_correct['time_s'], 'Correct', '#54a24b')\n",
        "a2,b2 = _scatter_with_fit(by_card_incorrect['cue_len'], by_card_incorrect['time_s'], 'Incorrect', '#e45756')\n",
        "print(a1, b1)\n",
        "print(a2, b2)\n",
        "plt.xlabel('Cue length (chars)')\n",
        "plt.ylabel(f'{AGG.title()} review time (s) per card')\n",
        "plt.title(f'Time vs cue length by correctness (card-level, {AGG})')\n",
        "plt.legend()\n",
        "plt.show()\n"
      ]
    }
  ],
  "metadata": {
    "kernelspec": {
      "display_name": "Python 3",
      "language": "python",
      "name": "python3"
    },
    "language_info": {
      "name": "python",
      "version": "3.11"
    }
  },
  "nbformat": 4,
  "nbformat_minor": 5
}
